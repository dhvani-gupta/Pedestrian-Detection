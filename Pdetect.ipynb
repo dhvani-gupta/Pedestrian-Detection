{
 "cells": [
  {
   "cell_type": "code",
   "execution_count": 1,
   "metadata": {},
   "outputs": [],
   "source": [
    "import cv2"
   ]
  },
  {
   "cell_type": "code",
   "execution_count": 2,
   "metadata": {},
   "outputs": [],
   "source": [
    "cap = cv2.VideoCapture(0)"
   ]
  },
  {
   "cell_type": "code",
   "execution_count": 3,
   "metadata": {},
   "outputs": [],
   "source": [
    "pedestrian_cascade = cv2.CascadeClassifier(r'C:\\Users\\BEST BUY\\Desktop/haarcascade.xml')"
   ]
  },
  {
   "cell_type": "code",
   "execution_count": null,
   "metadata": {},
   "outputs": [],
   "source": [
    "while True:\n",
    "    # reads frames from a video\n",
    "    ret, frames = cap.read()\n",
    "    # convert to gray scale of each frames\n",
    "    #gray = cv2.cvtColor(frames, cv2.COLOR_BGR2GRAY)\n",
    "    # Detects pedestrians of different sizes in the input image\n",
    "    pedestrians = pedestrian_cascade.detectMultiScale( frames, 1.1, \n",
    "    1)\n",
    "    # To draw a rectangle in each pedestrians\n",
    "    for (x,y,w,h) in pedestrians:\n",
    "        cv2.rectangle(frames,(x,y),(x+w,y+h),(0,255,0),2)\n",
    "        font = cv2.FONT_HERSHEY_DUPLEX\n",
    "        cv2.putText(frames, 'Person', (x + 6, y - 6), font, 0.5, (0, \n",
    "        255, 0), 1)\n",
    "        # Display frames in a window\n",
    "        cv2.imshow('Pedestrian detection', frames)\n",
    "    # Wait for Enter key to stop\n",
    "    if cv2.waitKey(33) == 13:\n",
    "        break"
   ]
  },
  {
   "cell_type": "code",
   "execution_count": null,
   "metadata": {},
   "outputs": [],
   "source": []
  },
  {
   "cell_type": "code",
   "execution_count": null,
   "metadata": {},
   "outputs": [],
   "source": []
  },
  {
   "cell_type": "code",
   "execution_count": null,
   "metadata": {},
   "outputs": [],
   "source": []
  },
  {
   "cell_type": "code",
   "execution_count": null,
   "metadata": {},
   "outputs": [],
   "source": []
  },
  {
   "cell_type": "code",
   "execution_count": null,
   "metadata": {},
   "outputs": [],
   "source": []
  }
 ],
 "metadata": {
  "kernelspec": {
   "display_name": "Python 3",
   "language": "python",
   "name": "python3"
  },
  "language_info": {
   "codemirror_mode": {
    "name": "ipython",
    "version": 3
   },
   "file_extension": ".py",
   "mimetype": "text/x-python",
   "name": "python",
   "nbconvert_exporter": "python",
   "pygments_lexer": "ipython3",
   "version": "3.7.4"
  }
 },
 "nbformat": 4,
 "nbformat_minor": 2
}
